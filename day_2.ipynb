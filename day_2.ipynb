{
 "cells": [
  {
   "cell_type": "code",
   "execution_count": 53,
   "metadata": {},
   "outputs": [],
   "source": [
    "import pandas as pd\n",
    "import seaborn as sns\n",
    "import matplotlib.pyplot as plt"
   ]
  },
  {
   "cell_type": "code",
   "execution_count": 54,
   "metadata": {},
   "outputs": [],
   "source": [
    "dataset = pd.read_csv(r\"./brain_tumor_dataset.csv\")"
   ]
  },
  {
   "cell_type": "code",
   "execution_count": 6,
   "metadata": {},
   "outputs": [
    {
     "data": {
      "text/html": [
       "<div>\n",
       "<style scoped>\n",
       "    .dataframe tbody tr th:only-of-type {\n",
       "        vertical-align: middle;\n",
       "    }\n",
       "\n",
       "    .dataframe tbody tr th {\n",
       "        vertical-align: top;\n",
       "    }\n",
       "\n",
       "    .dataframe thead th {\n",
       "        text-align: right;\n",
       "    }\n",
       "</style>\n",
       "<table border=\"1\" class=\"dataframe\">\n",
       "  <thead>\n",
       "    <tr style=\"text-align: right;\">\n",
       "      <th></th>\n",
       "      <th>Patient_ID</th>\n",
       "      <th>Age</th>\n",
       "      <th>Tumor_Size</th>\n",
       "      <th>Survival_Rate</th>\n",
       "      <th>Tumor_Growth_Rate</th>\n",
       "    </tr>\n",
       "  </thead>\n",
       "  <tbody>\n",
       "    <tr>\n",
       "      <th>count</th>\n",
       "      <td>20000.000000</td>\n",
       "      <td>20000.000000</td>\n",
       "      <td>20000.000000</td>\n",
       "      <td>20000.000000</td>\n",
       "      <td>20000.000000</td>\n",
       "    </tr>\n",
       "    <tr>\n",
       "      <th>mean</th>\n",
       "      <td>10000.500000</td>\n",
       "      <td>49.433700</td>\n",
       "      <td>5.236552</td>\n",
       "      <td>70.131699</td>\n",
       "      <td>1.547701</td>\n",
       "    </tr>\n",
       "    <tr>\n",
       "      <th>std</th>\n",
       "      <td>5773.647028</td>\n",
       "      <td>17.389296</td>\n",
       "      <td>2.754359</td>\n",
       "      <td>17.270834</td>\n",
       "      <td>0.835995</td>\n",
       "    </tr>\n",
       "    <tr>\n",
       "      <th>min</th>\n",
       "      <td>1.000000</td>\n",
       "      <td>20.000000</td>\n",
       "      <td>0.500410</td>\n",
       "      <td>40.002386</td>\n",
       "      <td>0.100017</td>\n",
       "    </tr>\n",
       "    <tr>\n",
       "      <th>25%</th>\n",
       "      <td>5000.750000</td>\n",
       "      <td>34.000000</td>\n",
       "      <td>2.836686</td>\n",
       "      <td>55.224439</td>\n",
       "      <td>0.830433</td>\n",
       "    </tr>\n",
       "    <tr>\n",
       "      <th>50%</th>\n",
       "      <td>10000.500000</td>\n",
       "      <td>49.000000</td>\n",
       "      <td>5.200675</td>\n",
       "      <td>70.305066</td>\n",
       "      <td>1.541821</td>\n",
       "    </tr>\n",
       "    <tr>\n",
       "      <th>75%</th>\n",
       "      <td>15000.250000</td>\n",
       "      <td>65.000000</td>\n",
       "      <td>7.624299</td>\n",
       "      <td>85.043395</td>\n",
       "      <td>2.262484</td>\n",
       "    </tr>\n",
       "    <tr>\n",
       "      <th>max</th>\n",
       "      <td>20000.000000</td>\n",
       "      <td>79.000000</td>\n",
       "      <td>9.999420</td>\n",
       "      <td>99.998125</td>\n",
       "      <td>2.999835</td>\n",
       "    </tr>\n",
       "  </tbody>\n",
       "</table>\n",
       "</div>"
      ],
      "text/plain": [
       "         Patient_ID           Age    Tumor_Size  Survival_Rate  \\\n",
       "count  20000.000000  20000.000000  20000.000000   20000.000000   \n",
       "mean   10000.500000     49.433700      5.236552      70.131699   \n",
       "std     5773.647028     17.389296      2.754359      17.270834   \n",
       "min        1.000000     20.000000      0.500410      40.002386   \n",
       "25%     5000.750000     34.000000      2.836686      55.224439   \n",
       "50%    10000.500000     49.000000      5.200675      70.305066   \n",
       "75%    15000.250000     65.000000      7.624299      85.043395   \n",
       "max    20000.000000     79.000000      9.999420      99.998125   \n",
       "\n",
       "       Tumor_Growth_Rate  \n",
       "count       20000.000000  \n",
       "mean            1.547701  \n",
       "std             0.835995  \n",
       "min             0.100017  \n",
       "25%             0.830433  \n",
       "50%             1.541821  \n",
       "75%             2.262484  \n",
       "max             2.999835  "
      ]
     },
     "execution_count": 6,
     "metadata": {},
     "output_type": "execute_result"
    }
   ],
   "source": [
    "dataset.describe()"
   ]
  },
  {
   "cell_type": "code",
   "execution_count": 20,
   "metadata": {},
   "outputs": [
    {
     "data": {
      "text/html": [
       "<div>\n",
       "<style scoped>\n",
       "    .dataframe tbody tr th:only-of-type {\n",
       "        vertical-align: middle;\n",
       "    }\n",
       "\n",
       "    .dataframe tbody tr th {\n",
       "        vertical-align: top;\n",
       "    }\n",
       "\n",
       "    .dataframe thead th {\n",
       "        text-align: right;\n",
       "    }\n",
       "</style>\n",
       "<table border=\"1\" class=\"dataframe\">\n",
       "  <thead>\n",
       "    <tr style=\"text-align: right;\">\n",
       "      <th></th>\n",
       "      <th>Patient_ID</th>\n",
       "      <th>Age</th>\n",
       "      <th>Gender</th>\n",
       "      <th>Tumor_Type</th>\n",
       "      <th>Tumor_Size</th>\n",
       "      <th>Location</th>\n",
       "      <th>Histology</th>\n",
       "      <th>Stage</th>\n",
       "      <th>Symptom_1</th>\n",
       "      <th>Symptom_2</th>\n",
       "      <th>Symptom_3</th>\n",
       "      <th>Radiation_Treatment</th>\n",
       "      <th>Surgery_Performed</th>\n",
       "      <th>Chemotherapy</th>\n",
       "      <th>Survival_Rate</th>\n",
       "      <th>Tumor_Growth_Rate</th>\n",
       "      <th>Family_History</th>\n",
       "      <th>MRI_Result</th>\n",
       "      <th>Follow_Up_Required</th>\n",
       "    </tr>\n",
       "  </thead>\n",
       "  <tbody>\n",
       "    <tr>\n",
       "      <th>0</th>\n",
       "      <td>1</td>\n",
       "      <td>73</td>\n",
       "      <td>Male</td>\n",
       "      <td>Malignant</td>\n",
       "      <td>5.375612</td>\n",
       "      <td>Temporal</td>\n",
       "      <td>Astrocytoma</td>\n",
       "      <td>III</td>\n",
       "      <td>Vision Issues</td>\n",
       "      <td>Seizures</td>\n",
       "      <td>Seizures</td>\n",
       "      <td>No</td>\n",
       "      <td>No</td>\n",
       "      <td>NaN</td>\n",
       "      <td>51.312579</td>\n",
       "      <td>0.111876</td>\n",
       "      <td>No</td>\n",
       "      <td>Positive</td>\n",
       "      <td>Yes</td>\n",
       "    </tr>\n",
       "    <tr>\n",
       "      <th>1</th>\n",
       "      <td>2</td>\n",
       "      <td>26</td>\n",
       "      <td>Male</td>\n",
       "      <td>Benign</td>\n",
       "      <td>4.847098</td>\n",
       "      <td>Parietal</td>\n",
       "      <td>Glioblastoma</td>\n",
       "      <td>II</td>\n",
       "      <td>Headache</td>\n",
       "      <td>Headache</td>\n",
       "      <td>Nausea</td>\n",
       "      <td>Yes</td>\n",
       "      <td>Yes</td>\n",
       "      <td>Yes</td>\n",
       "      <td>46.373273</td>\n",
       "      <td>2.165736</td>\n",
       "      <td>Yes</td>\n",
       "      <td>Positive</td>\n",
       "      <td>Yes</td>\n",
       "    </tr>\n",
       "    <tr>\n",
       "      <th>2</th>\n",
       "      <td>3</td>\n",
       "      <td>31</td>\n",
       "      <td>Male</td>\n",
       "      <td>Benign</td>\n",
       "      <td>5.588391</td>\n",
       "      <td>Parietal</td>\n",
       "      <td>Meningioma</td>\n",
       "      <td>I</td>\n",
       "      <td>Vision Issues</td>\n",
       "      <td>Headache</td>\n",
       "      <td>Seizures</td>\n",
       "      <td>No</td>\n",
       "      <td>No</td>\n",
       "      <td>No</td>\n",
       "      <td>47.072221</td>\n",
       "      <td>1.884228</td>\n",
       "      <td>No</td>\n",
       "      <td>Negative</td>\n",
       "      <td>No</td>\n",
       "    </tr>\n",
       "    <tr>\n",
       "      <th>3</th>\n",
       "      <td>4</td>\n",
       "      <td>29</td>\n",
       "      <td>Male</td>\n",
       "      <td>Malignant</td>\n",
       "      <td>1.436600</td>\n",
       "      <td>Temporal</td>\n",
       "      <td>Medulloblastoma</td>\n",
       "      <td>IV</td>\n",
       "      <td>Vision Issues</td>\n",
       "      <td>Seizures</td>\n",
       "      <td>Headache</td>\n",
       "      <td>Yes</td>\n",
       "      <td>No</td>\n",
       "      <td>Yes</td>\n",
       "      <td>51.853634</td>\n",
       "      <td>1.283342</td>\n",
       "      <td>Yes</td>\n",
       "      <td>Negative</td>\n",
       "      <td>No</td>\n",
       "    </tr>\n",
       "  </tbody>\n",
       "</table>\n",
       "</div>"
      ],
      "text/plain": [
       "   Patient_ID  Age Gender Tumor_Type  Tumor_Size  Location        Histology  \\\n",
       "0           1   73   Male  Malignant    5.375612  Temporal      Astrocytoma   \n",
       "1           2   26   Male     Benign    4.847098  Parietal     Glioblastoma   \n",
       "2           3   31   Male     Benign    5.588391  Parietal       Meningioma   \n",
       "3           4   29   Male  Malignant    1.436600  Temporal  Medulloblastoma   \n",
       "\n",
       "  Stage      Symptom_1 Symptom_2 Symptom_3 Radiation_Treatment  \\\n",
       "0   III  Vision Issues  Seizures  Seizures                  No   \n",
       "1    II       Headache  Headache    Nausea                 Yes   \n",
       "2     I  Vision Issues  Headache  Seizures                  No   \n",
       "3    IV  Vision Issues  Seizures  Headache                 Yes   \n",
       "\n",
       "  Surgery_Performed Chemotherapy  Survival_Rate  Tumor_Growth_Rate  \\\n",
       "0                No          NaN      51.312579           0.111876   \n",
       "1               Yes          Yes      46.373273           2.165736   \n",
       "2                No           No      47.072221           1.884228   \n",
       "3                No          Yes      51.853634           1.283342   \n",
       "\n",
       "  Family_History MRI_Result Follow_Up_Required  \n",
       "0             No   Positive                Yes  \n",
       "1            Yes   Positive                Yes  \n",
       "2             No   Negative                 No  \n",
       "3            Yes   Negative                 No  "
      ]
     },
     "execution_count": 20,
     "metadata": {},
     "output_type": "execute_result"
    }
   ],
   "source": [
    "dataset.head(4)"
   ]
  },
  {
   "cell_type": "code",
   "execution_count": 9,
   "metadata": {},
   "outputs": [
    {
     "data": {
      "text/html": [
       "<div>\n",
       "<style scoped>\n",
       "    .dataframe tbody tr th:only-of-type {\n",
       "        vertical-align: middle;\n",
       "    }\n",
       "\n",
       "    .dataframe tbody tr th {\n",
       "        vertical-align: top;\n",
       "    }\n",
       "\n",
       "    .dataframe thead th {\n",
       "        text-align: right;\n",
       "    }\n",
       "</style>\n",
       "<table border=\"1\" class=\"dataframe\">\n",
       "  <thead>\n",
       "    <tr style=\"text-align: right;\">\n",
       "      <th></th>\n",
       "      <th>name</th>\n",
       "      <th>email</th>\n",
       "      <th>age</th>\n",
       "    </tr>\n",
       "  </thead>\n",
       "  <tbody>\n",
       "    <tr>\n",
       "      <th>0</th>\n",
       "      <td>Irfan</td>\n",
       "      <td>irfan@irfans.dev</td>\n",
       "      <td>25</td>\n",
       "    </tr>\n",
       "    <tr>\n",
       "      <th>1</th>\n",
       "      <td>Niara</td>\n",
       "      <td>naira@irfans.dev</td>\n",
       "      <td>7</td>\n",
       "    </tr>\n",
       "  </tbody>\n",
       "</table>\n",
       "</div>"
      ],
      "text/plain": [
       "    name             email age\n",
       "0  Irfan  irfan@irfans.dev  25\n",
       "1  Niara  naira@irfans.dev   7"
      ]
     },
     "execution_count": 9,
     "metadata": {},
     "output_type": "execute_result"
    }
   ],
   "source": [
    "data = [{\"name\": \"Irfan\", \"email\": \"irfan@irfans.dev\", \"age\": \"25\"}, {\"name\": \"Niara\", \"email\": \"naira@irfans.dev\", \"age\": \"7\"}]\n",
    "\n",
    "df = pd.DataFrame(data)\n",
    "df.head()"
   ]
  },
  {
   "cell_type": "code",
   "execution_count": 12,
   "metadata": {},
   "outputs": [
    {
     "data": {
      "text/html": [
       "<div>\n",
       "<style scoped>\n",
       "    .dataframe tbody tr th:only-of-type {\n",
       "        vertical-align: middle;\n",
       "    }\n",
       "\n",
       "    .dataframe tbody tr th {\n",
       "        vertical-align: top;\n",
       "    }\n",
       "\n",
       "    .dataframe thead th {\n",
       "        text-align: right;\n",
       "    }\n",
       "</style>\n",
       "<table border=\"1\" class=\"dataframe\">\n",
       "  <thead>\n",
       "    <tr style=\"text-align: right;\">\n",
       "      <th></th>\n",
       "      <th>id</th>\n",
       "      <th>first_name</th>\n",
       "      <th>last_name</th>\n",
       "      <th>email</th>\n",
       "      <th>gender</th>\n",
       "      <th>ip_address</th>\n",
       "      <th>amount</th>\n",
       "    </tr>\n",
       "  </thead>\n",
       "  <tbody>\n",
       "    <tr>\n",
       "      <th>0</th>\n",
       "      <td>1</td>\n",
       "      <td>King</td>\n",
       "      <td>Flockhart</td>\n",
       "      <td>kflockhart0@cbc.ca</td>\n",
       "      <td>Male</td>\n",
       "      <td>78.143.62.47</td>\n",
       "      <td>$3.43</td>\n",
       "    </tr>\n",
       "    <tr>\n",
       "      <th>1</th>\n",
       "      <td>2</td>\n",
       "      <td>Tallou</td>\n",
       "      <td>Boken</td>\n",
       "      <td>tboken1@sciencedaily.com</td>\n",
       "      <td>Genderfluid</td>\n",
       "      <td>209.210.58.72</td>\n",
       "      <td>$4.05</td>\n",
       "    </tr>\n",
       "    <tr>\n",
       "      <th>2</th>\n",
       "      <td>3</td>\n",
       "      <td>Lucias</td>\n",
       "      <td>Raeburn</td>\n",
       "      <td>lraeburn2@networkadvertising.org</td>\n",
       "      <td>Genderqueer</td>\n",
       "      <td>8.50.114.225</td>\n",
       "      <td>$3.78</td>\n",
       "    </tr>\n",
       "  </tbody>\n",
       "</table>\n",
       "</div>"
      ],
      "text/plain": [
       "   id first_name  last_name                             email       gender  \\\n",
       "0   1       King  Flockhart                kflockhart0@cbc.ca         Male   \n",
       "1   2     Tallou      Boken          tboken1@sciencedaily.com  Genderfluid   \n",
       "2   3     Lucias    Raeburn  lraeburn2@networkadvertising.org  Genderqueer   \n",
       "\n",
       "      ip_address amount  \n",
       "0   78.143.62.47  $3.43  \n",
       "1  209.210.58.72  $4.05  \n",
       "2   8.50.114.225  $3.78  "
      ]
     },
     "execution_count": 12,
     "metadata": {},
     "output_type": "execute_result"
    }
   ],
   "source": [
    "Mdata = pd.read_json(r\"MOCK_DATA.json\")\n",
    "\n",
    "Mdata.head(3)"
   ]
  },
  {
   "cell_type": "code",
   "execution_count": null,
   "metadata": {},
   "outputs": [],
   "source": [
    "import requests\n",
    "\n",
    "url = \"https://api.bd.irfans.dev/api/bd.district\"\n",
    "\n",
    "response = requests.get(url)\n",
    "list_data = response.json()\n",
    "\n",
    "df2 = pd.DataFrame(list_data)\n",
    "\n",
    "df2.head(30)"
   ]
  },
  {
   "cell_type": "markdown",
   "metadata": {},
   "source": [
    "# Game start from now \n",
    "---"
   ]
  },
  {
   "cell_type": "markdown",
   "metadata": {},
   "source": [
    "## Missinvg value findout\n",
    "---"
   ]
  },
  {
   "cell_type": "code",
   "execution_count": 21,
   "metadata": {},
   "outputs": [
    {
     "data": {
      "text/html": [
       "<div>\n",
       "<style scoped>\n",
       "    .dataframe tbody tr th:only-of-type {\n",
       "        vertical-align: middle;\n",
       "    }\n",
       "\n",
       "    .dataframe tbody tr th {\n",
       "        vertical-align: top;\n",
       "    }\n",
       "\n",
       "    .dataframe thead th {\n",
       "        text-align: right;\n",
       "    }\n",
       "</style>\n",
       "<table border=\"1\" class=\"dataframe\">\n",
       "  <thead>\n",
       "    <tr style=\"text-align: right;\">\n",
       "      <th></th>\n",
       "      <th>Patient_ID</th>\n",
       "      <th>Age</th>\n",
       "      <th>Gender</th>\n",
       "      <th>Tumor_Type</th>\n",
       "      <th>Tumor_Size</th>\n",
       "      <th>Location</th>\n",
       "      <th>Histology</th>\n",
       "      <th>Stage</th>\n",
       "      <th>Symptom_1</th>\n",
       "      <th>Symptom_2</th>\n",
       "      <th>Symptom_3</th>\n",
       "      <th>Radiation_Treatment</th>\n",
       "      <th>Surgery_Performed</th>\n",
       "      <th>Chemotherapy</th>\n",
       "      <th>Survival_Rate</th>\n",
       "      <th>Tumor_Growth_Rate</th>\n",
       "      <th>Family_History</th>\n",
       "      <th>MRI_Result</th>\n",
       "      <th>Follow_Up_Required</th>\n",
       "    </tr>\n",
       "  </thead>\n",
       "  <tbody>\n",
       "    <tr>\n",
       "      <th>0</th>\n",
       "      <td>1</td>\n",
       "      <td>73</td>\n",
       "      <td>Male</td>\n",
       "      <td>Malignant</td>\n",
       "      <td>5.375612</td>\n",
       "      <td>Temporal</td>\n",
       "      <td>Astrocytoma</td>\n",
       "      <td>III</td>\n",
       "      <td>Vision Issues</td>\n",
       "      <td>Seizures</td>\n",
       "      <td>Seizures</td>\n",
       "      <td>No</td>\n",
       "      <td>No</td>\n",
       "      <td>NaN</td>\n",
       "      <td>51.312579</td>\n",
       "      <td>0.111876</td>\n",
       "      <td>No</td>\n",
       "      <td>Positive</td>\n",
       "      <td>Yes</td>\n",
       "    </tr>\n",
       "    <tr>\n",
       "      <th>1</th>\n",
       "      <td>2</td>\n",
       "      <td>26</td>\n",
       "      <td>Male</td>\n",
       "      <td>Benign</td>\n",
       "      <td>4.847098</td>\n",
       "      <td>Parietal</td>\n",
       "      <td>Glioblastoma</td>\n",
       "      <td>II</td>\n",
       "      <td>Headache</td>\n",
       "      <td>Headache</td>\n",
       "      <td>Nausea</td>\n",
       "      <td>Yes</td>\n",
       "      <td>Yes</td>\n",
       "      <td>Yes</td>\n",
       "      <td>46.373273</td>\n",
       "      <td>2.165736</td>\n",
       "      <td>Yes</td>\n",
       "      <td>Positive</td>\n",
       "      <td>Yes</td>\n",
       "    </tr>\n",
       "    <tr>\n",
       "      <th>2</th>\n",
       "      <td>3</td>\n",
       "      <td>31</td>\n",
       "      <td>Male</td>\n",
       "      <td>Benign</td>\n",
       "      <td>5.588391</td>\n",
       "      <td>Parietal</td>\n",
       "      <td>Meningioma</td>\n",
       "      <td>I</td>\n",
       "      <td>Vision Issues</td>\n",
       "      <td>Headache</td>\n",
       "      <td>Seizures</td>\n",
       "      <td>No</td>\n",
       "      <td>No</td>\n",
       "      <td>No</td>\n",
       "      <td>47.072221</td>\n",
       "      <td>1.884228</td>\n",
       "      <td>No</td>\n",
       "      <td>Negative</td>\n",
       "      <td>No</td>\n",
       "    </tr>\n",
       "    <tr>\n",
       "      <th>3</th>\n",
       "      <td>4</td>\n",
       "      <td>29</td>\n",
       "      <td>Male</td>\n",
       "      <td>Malignant</td>\n",
       "      <td>1.436600</td>\n",
       "      <td>Temporal</td>\n",
       "      <td>Medulloblastoma</td>\n",
       "      <td>IV</td>\n",
       "      <td>Vision Issues</td>\n",
       "      <td>Seizures</td>\n",
       "      <td>Headache</td>\n",
       "      <td>Yes</td>\n",
       "      <td>No</td>\n",
       "      <td>Yes</td>\n",
       "      <td>51.853634</td>\n",
       "      <td>1.283342</td>\n",
       "      <td>Yes</td>\n",
       "      <td>Negative</td>\n",
       "      <td>No</td>\n",
       "    </tr>\n",
       "  </tbody>\n",
       "</table>\n",
       "</div>"
      ],
      "text/plain": [
       "   Patient_ID  Age Gender Tumor_Type  Tumor_Size  Location        Histology  \\\n",
       "0           1   73   Male  Malignant    5.375612  Temporal      Astrocytoma   \n",
       "1           2   26   Male     Benign    4.847098  Parietal     Glioblastoma   \n",
       "2           3   31   Male     Benign    5.588391  Parietal       Meningioma   \n",
       "3           4   29   Male  Malignant    1.436600  Temporal  Medulloblastoma   \n",
       "\n",
       "  Stage      Symptom_1 Symptom_2 Symptom_3 Radiation_Treatment  \\\n",
       "0   III  Vision Issues  Seizures  Seizures                  No   \n",
       "1    II       Headache  Headache    Nausea                 Yes   \n",
       "2     I  Vision Issues  Headache  Seizures                  No   \n",
       "3    IV  Vision Issues  Seizures  Headache                 Yes   \n",
       "\n",
       "  Surgery_Performed Chemotherapy  Survival_Rate  Tumor_Growth_Rate  \\\n",
       "0                No          NaN      51.312579           0.111876   \n",
       "1               Yes          Yes      46.373273           2.165736   \n",
       "2                No           No      47.072221           1.884228   \n",
       "3                No          Yes      51.853634           1.283342   \n",
       "\n",
       "  Family_History MRI_Result Follow_Up_Required  \n",
       "0             No   Positive                Yes  \n",
       "1            Yes   Positive                Yes  \n",
       "2             No   Negative                 No  \n",
       "3            Yes   Negative                 No  "
      ]
     },
     "execution_count": 21,
     "metadata": {},
     "output_type": "execute_result"
    }
   ],
   "source": [
    "dataset.head(4)"
   ]
  },
  {
   "cell_type": "code",
   "execution_count": 26,
   "metadata": {},
   "outputs": [
    {
     "data": {
      "text/plain": [
       "Patient_ID             0\n",
       "Age                    0\n",
       "Gender                 0\n",
       "Tumor_Type             0\n",
       "Tumor_Size             0\n",
       "Location               0\n",
       "Histology              0\n",
       "Stage                  0\n",
       "Symptom_1              0\n",
       "Symptom_2              0\n",
       "Symptom_3              0\n",
       "Radiation_Treatment    0\n",
       "Surgery_Performed      0\n",
       "Chemotherapy           1\n",
       "Survival_Rate          0\n",
       "Tumor_Growth_Rate      0\n",
       "Family_History         0\n",
       "MRI_Result             0\n",
       "Follow_Up_Required     0\n",
       "dtype: int64"
      ]
     },
     "execution_count": 26,
     "metadata": {},
     "output_type": "execute_result"
    }
   ],
   "source": [
    "dataset.isnull()\n",
    "dataset.isnull().sum()"
   ]
  },
  {
   "cell_type": "code",
   "execution_count": null,
   "metadata": {},
   "outputs": [
    {
     "data": {
      "text/plain": [
       "(20000, 19)"
      ]
     },
     "execution_count": 33,
     "metadata": {},
     "output_type": "execute_result"
    }
   ],
   "source": [
    "dataset.shape #return a touple of (rows, columns)\n",
    "dataset.shape[0] # rows\n",
    "dataset.shape[1] # cloumns"
   ]
  },
  {
   "cell_type": "code",
   "execution_count": 43,
   "metadata": {},
   "outputs": [
    {
     "data": {
      "text/plain": [
       "np.int64(1)"
      ]
     },
     "execution_count": 43,
     "metadata": {},
     "output_type": "execute_result"
    }
   ],
   "source": [
    "dataset.isnull() # return true or false\n",
    "dataset.isnull().sum() # return number of null value presence inn each attributes\n",
    "dataset.isnull().sum().sum() # return total number of null value presence in dataset of all attributes"
   ]
  },
  {
   "cell_type": "code",
   "execution_count": null,
   "metadata": {},
   "outputs": [
    {
     "data": {
      "text/plain": [
       "Patient_ID             0.000\n",
       "Age                    0.000\n",
       "Gender                 0.000\n",
       "Tumor_Type             0.000\n",
       "Tumor_Size             0.000\n",
       "Location               0.000\n",
       "Histology              0.000\n",
       "Stage                  0.000\n",
       "Symptom_1              0.000\n",
       "Symptom_2              0.000\n",
       "Symptom_3              0.000\n",
       "Radiation_Treatment    0.000\n",
       "Surgery_Performed      0.000\n",
       "Chemotherapy           0.005\n",
       "Survival_Rate          0.000\n",
       "Tumor_Growth_Rate      0.000\n",
       "Family_History         0.000\n",
       "MRI_Result             0.000\n",
       "Follow_Up_Required     0.000\n",
       "dtype: float64"
      ]
     },
     "execution_count": 37,
     "metadata": {},
     "output_type": "execute_result"
    }
   ],
   "source": [
    "dataset.isnull().sum()/dataset.shape[0]*100 # null value presense in persentage"
   ]
  },
  {
   "cell_type": "code",
   "execution_count": 47,
   "metadata": {},
   "outputs": [
    {
     "data": {
      "text/plain": [
       "np.float64(0.0002631578947368421)"
      ]
     },
     "execution_count": 47,
     "metadata": {},
     "output_type": "execute_result"
    }
   ],
   "source": [
    "res = dataset.isnull().sum().sum()/(dataset.shape[0]*dataset.shape[1]) # null value presense in persentage\n",
    "res*100"
   ]
  },
  {
   "cell_type": "code",
   "execution_count": 49,
   "metadata": {},
   "outputs": [
    {
     "data": {
      "text/plain": [
       "np.int64(379998)"
      ]
     },
     "execution_count": 49,
     "metadata": {},
     "output_type": "execute_result"
    }
   ],
   "source": [
    "dataset.notnull().sum().sum() - dataset.isnull().sum().sum()"
   ]
  },
  {
   "cell_type": "code",
   "execution_count": 56,
   "metadata": {},
   "outputs": [
    {
     "data": {
      "text/plain": [
       "<Axes: >"
      ]
     },
     "execution_count": 56,
     "metadata": {},
     "output_type": "execute_result"
    },
    {
     "data": {
      "image/png": "[encoded data removed]",
      "text/plain": [
       "<Figure size 640x480 with 2 Axes>"
      ]
     },
     "metadata": {},
     "output_type": "display_data"
    }
   ],
   "source": [
    "sns.heatmap(dataset.isnull())"
   ]
  }
 ],
 "metadata": {
  "kernelspec": {
   "display_name": "Python 3",
   "language": "python",
   "name": "python3"
  },
  "language_info": {
   "codemirror_mode": {
    "name": "ipython",
    "version": 3
   },
   "file_extension": ".py",
   "mimetype": "text/x-python",
   "name": "python",
   "nbconvert_exporter": "python",
   "pygments_lexer": "ipython3",
   "version": "3.12.9"
  }
 },
 "nbformat": 4,
 "nbformat_minor": 4
}
