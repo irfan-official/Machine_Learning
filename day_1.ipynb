{
 "cells": [
  {
   "cell_type": "markdown",
   "id": "cd738b62",
   "metadata": {},
   "source": [
    "# import irfans api\n",
    "---"
   ]
  },
  {
   "cell_type": "code",
   "execution_count": 7,
   "id": "c40b09ad-8baf-4402-8dc9-f7cde76e4d2d",
   "metadata": {},
   "outputs": [
    {
     "name": "stdout",
     "output_type": "stream",
     "text": [
      "[{'id': '1', 'division_id': '3', 'name': 'Dhaka', 'bn_name': 'ঢাকা', 'lat': '23.7115253', 'long': '90.4111451'}, {'id': '2', 'division_id': '3', 'name': 'Faridpur', 'bn_name': 'ফরিদপুি', 'lat': '23.6070822', 'long': '89.8429406'}, {'id': '3', 'division_id': '3', 'name': 'Gazipur', 'bn_name': 'গাজীপুি', 'lat': '24.0022858', 'long': '90.4264283'}, {'id': '4', 'division_id': '3', 'name': 'Gopalganj', 'bn_name': 'গগাপালগঞ্জ', 'lat': '23.0050857', 'long': '89.8266059'}, {'id': '5', 'division_id': '8', 'name': 'Jamalpur', 'bn_name': 'জামালপুি', 'lat': '24.937533', 'long': '89.937775'}, {'id': '6', 'division_id': '3', 'name': 'Kishoreganj', 'bn_name': 'রকশ ািগঞ্জ', 'lat': '24.444937', 'long': '90.776575'}, {'id': '7', 'division_id': '3', 'name': 'Madaripur', 'bn_name': 'মাদািীপুি', 'lat': '23.164102', 'long': '90.1896805'}, {'id': '8', 'division_id': '3', 'name': 'Manikganj', 'bn_name': 'মারিকগঞ্জ', 'lat': '23.8644', 'long': '90.0047'}, {'id': '9', 'division_id': '3', 'name': 'Munshiganj', 'bn_name': 'মুরিগঞ্জ', 'lat': '23.5422', 'long': '90.5305'}, {'id': '10', 'division_id': '8', 'name': 'Mymensingh', 'bn_name': 'ময়মির িংহ', 'lat': '24.7471', 'long': '90.4203'}, {'id': '11', 'division_id': '3', 'name': 'Narayanganj', 'bn_name': 'িািায়াণগঞ্জ', 'lat': '23.63366', 'long': '90.496482'}, {'id': '12', 'division_id': '3', 'name': 'Narsingdi', 'bn_name': 'িির িংদী', 'lat': '23.932233', 'long': '90.71541'}, {'id': '13', 'division_id': '8', 'name': 'Netrokona', 'bn_name': 'গিত্রশকাণা', 'lat': '24.870955', 'long': '90.727887'}, {'id': '14', 'division_id': '3', 'name': 'Rajbari', 'bn_name': 'িাজবারি', 'lat': '23.7574305', 'long': '89.6444665'}, {'id': '15', 'division_id': '3', 'name': 'Shariatpur', 'bn_name': ' িীয়তপুি', 'lat': '23.2423', 'long': '90.4348'}, {'id': '16', 'division_id': '8', 'name': 'Sherpur', 'bn_name': 'গ িপুি', 'lat': '25.0204933', 'long': '90.0152966'}, {'id': '17', 'division_id': '3', 'name': 'Tangail', 'bn_name': 'টাঙ্গাইল', 'lat': '24.2513', 'long': '89.9167'}, {'id': '18', 'division_id': '5', 'name': 'Bogura', 'bn_name': 'বগুিা', 'lat': '24.8465228', 'long': '89.377755'}, {'id': '19', 'division_id': '5', 'name': 'Joypurhat', 'bn_name': 'জয়পুিহাট', 'lat': '25.0968', 'long': '89.0227'}, {'id': '20', 'division_id': '5', 'name': 'Naogaon', 'bn_name': 'িওগা াঁ', 'lat': '24.7936', 'long': '88.9318'}, {'id': '21', 'division_id': '5', 'name': 'Natore', 'bn_name': 'িাশটাি', 'lat': '24.420556', 'long': '89.000282'}, {'id': '22', 'division_id': '5', 'name': 'Chapi Nawabganj', 'bn_name': 'িবাবগঞ্জ', 'lat': '24.5965034', 'long': '88.2775122'}, {'id': '23', 'division_id': '5', 'name': 'Pabna', 'bn_name': 'পাবিা', 'lat': '23.998524', 'long': '89.233645'}, {'id': '24', 'division_id': '5', 'name': 'Rajshahi', 'bn_name': 'িাজ াহী', 'lat': '24.3745', 'long': '88.6042'}, {'id': '25', 'division_id': '5', 'name': 'Sirajgonj', 'bn_name': 'র িাজগঞ্জ', 'lat': '24.4533978', 'long': '89.7006815'}, {'id': '26', 'division_id': '6', 'name': 'Dinajpur', 'bn_name': 'রদিাজপুি', 'lat': '25.6217061', 'long': '88.6354504'}, {'id': '27', 'division_id': '6', 'name': 'Gaibandha', 'bn_name': 'গাইবান্ধা', 'lat': '25.328751', 'long': '89.528088'}, {'id': '28', 'division_id': '6', 'name': 'Kurigram', 'bn_name': 'কুরিগ্রাম', 'lat': '25.805445', 'long': '89.636174'}, {'id': '29', 'division_id': '6', 'name': 'Lalmonirhat', 'bn_name': 'লালমরিিহাট', 'lat': '25.9923', 'long': '89.2847'}, {'id': '30', 'division_id': '6', 'name': 'Nilphamari', 'bn_name': 'িীলফামািী', 'lat': '25.931794', 'long': '88.856006'}, {'id': '31', 'division_id': '6', 'name': 'Panchagarh', 'bn_name': 'পঞ্চগি', 'lat': '26.3411', 'long': '88.5541606'}, {'id': '32', 'division_id': '6', 'name': 'Rangpur', 'bn_name': 'িিংপুি', 'lat': '25.7558096', 'long': '89.244462'}, {'id': '33', 'division_id': '6', 'name': 'Thakurgaon', 'bn_name': 'ঠাকুিগা াঁও', 'lat': '26.0336945', 'long': '88.4616834'}, {'id': '34', 'division_id': '1', 'name': 'Barguna', 'bn_name': 'বিগুিা', 'lat': '22.0953', 'long': '90.1121'}, {'id': '35', 'division_id': '1', 'name': 'Barishal', 'bn_name': 'বরি াল', 'lat': '22.7010', 'long': '90.3535'}, {'id': '36', 'division_id': '1', 'name': 'Bhola', 'bn_name': 'গ ালা', 'lat': '22.685923', 'long': '90.648179'}, {'id': '37', 'division_id': '1', 'name': 'Jhalokati', 'bn_name': 'ঝালকাঠি', 'lat': '22.6406', 'long': '90.1987'}, {'id': '38', 'division_id': '1', 'name': 'Patuakhali', 'bn_name': 'পটয়াখালী', 'lat': '22.3596316', 'long': '90.3298712'}, {'id': '39', 'division_id': '1', 'name': 'Pirojpur', 'bn_name': 'রপশিাজপুি', 'lat': '22.5841', 'long': '89.9720'}, {'id': '40', 'division_id': '2', 'name': 'Bandarban', 'bn_name': 'বান্দিবাি', 'lat': '22.1953275', 'long': '92.2183773'}, {'id': '41', 'division_id': '2', 'name': 'Brahmanbaria', 'bn_name': 'ব্রাহ্মণবারিয়া', 'lat': '23.9570904', 'long': '91.1119286'}, {'id': '42', 'division_id': '2', 'name': 'Chandpur', 'bn_name': 'চা াঁদপুি', 'lat': '23.2332585', 'long': '90.6712912'}, {'id': '43', 'division_id': '2', 'name': 'Chattogram', 'bn_name': 'চট্টগ্রাম', 'lat': '22.335109', 'long': '91.834073'}, {'id': '44', 'division_id': '2', 'name': 'Cumilla', 'bn_name': 'কুরমল্লা', 'lat': '23.4682747', 'long': '91.1788135'}, {'id': '45', 'division_id': '2', 'name': \"Cox's Bazar\", 'bn_name': 'কক্স বাজাি', 'lat': '21.4272', 'long': '92.0058'}, {'id': '46', 'division_id': '2', 'name': 'Feni', 'bn_name': 'গফিী', 'lat': '23.0159', 'long': '91.3976'}, {'id': '47', 'division_id': '2', 'name': 'Khagrachari', 'bn_name': 'খাগিাছরি', 'lat': '23.119285', 'long': '91.984663'}, {'id': '48', 'division_id': '2', 'name': 'Lakshmipur', 'bn_name': 'লক্ষ্মীপুি', 'lat': '22.942477', 'long': '90.841184'}, {'id': '49', 'division_id': '2', 'name': 'Noakhali', 'bn_name': 'গিায়াখালী', 'lat': '22.869563', 'long': '91.099398'}, {'id': '50', 'division_id': '2', 'name': 'Rangamati', 'bn_name': 'িাঙ্গামাটি', 'lat': '22.7324', 'long': '92.2985'}, {'id': '51', 'division_id': '7', 'name': 'Habiganj', 'bn_name': 'হরবগঞ্জ', 'lat': '24.374945', 'long': '91.41553'}, {'id': '52', 'division_id': '7', 'name': 'Maulvibazar', 'bn_name': 'গমৌল ীবাজাি', 'lat': '24.482934', 'long': '91.777417'}, {'id': '53', 'division_id': '7', 'name': 'Sunamganj', 'bn_name': ' ুিামগঞ্জ', 'lat': '25.0658042', 'long': '91.3950115'}, {'id': '54', 'division_id': '7', 'name': 'Sylhet', 'bn_name': 'র শলট', 'lat': '24.8897956', 'long': '91.8697894'}, {'id': '55', 'division_id': '4', 'name': 'Bagerhat', 'bn_name': 'বাশগিহাট', 'lat': '22.651568', 'long': '89.785938'}, {'id': '56', 'division_id': '4', 'name': 'Chuadanga', 'bn_name': 'চয়াডাঙ্গা', 'lat': '23.6401961', 'long': '88.841841'}, {'id': '57', 'division_id': '4', 'name': 'Jashore', 'bn_name': 'যশ াি', 'lat': '23.16643', 'long': '89.2081126'}, {'id': '58', 'division_id': '4', 'name': 'Jhenaidah', 'bn_name': 'রঝিাইদহ', 'lat': '23.5448176', 'long': '89.1539213'}, {'id': '59', 'division_id': '4', 'name': 'Khulna', 'bn_name': 'খুলিা', 'lat': '22.815774', 'long': '89.568679'}, {'id': '60', 'division_id': '4', 'name': 'Kushtia', 'bn_name': 'কুরিয়া', 'lat': '23.901258', 'long': '89.120482'}, {'id': '61', 'division_id': '4', 'name': 'Magura', 'bn_name': 'মাগুিা', 'lat': '23.487337', 'long': '89.419956'}, {'id': '62', 'division_id': '4', 'name': 'Meherpur', 'bn_name': 'গমশহিপুি', 'lat': '23.762213', 'long': '88.631821'}, {'id': '63', 'division_id': '4', 'name': 'Narail', 'bn_name': 'িিাইল', 'lat': '23.172534', 'long': '89.512672'}, {'id': '64', 'division_id': '4', 'name': 'Satkhira', 'bn_name': ' াতক্ষীিা', 'lat': '22.7185', 'long': '89.0705'}, {'id': '1', 'name': 'Barishal', 'bn_name': 'বরি াল', 'lat': '22.701002', 'long': '90.353451'}, {'id': '2', 'name': 'Chattogram', 'bn_name': 'চট্টগ্রাম', 'lat': '22.356851', 'long': '91.783182'}, {'id': '3', 'name': 'Dhaka', 'bn_name': 'ঢাকা', 'lat': '23.810332', 'long': '90.412518'}, {'id': '4', 'name': 'Khulna', 'bn_name': 'খুলিা', 'lat': '22.845641', 'long': '89.540328'}, {'id': '5', 'name': 'Rajshahi', 'bn_name': 'িাজ াহী', 'lat': '24.363589', 'long': '88.624135'}, {'id': '6', 'name': 'Rangpur', 'bn_name': 'িিংপুি', 'lat': '25.743892', 'long': '89.275227'}, {'id': '7', 'name': 'Sylhet', 'bn_name': 'র শলট', 'lat': '24.894929', 'long': '91.868706'}, {'id': '8', 'name': 'Mymensingh', 'bn_name': 'ময়মির িংহ', 'lat': '24.747149', 'long': '90.420273'}]\n"
     ]
    }
   ],
   "source": [
    "import requests\n",
    "url = \"https://api.bd.irfans.dev/api/bd.division\"\n",
    "response = requests.get(url)\n",
    "\n",
    "data = response.json()\n",
    "\n",
    "print(data)"
   ]
  },
  {
   "cell_type": "code",
   "execution_count": 8,
   "id": "6f8c3136",
   "metadata": {},
   "outputs": [
    {
     "name": "stdout",
     "output_type": "stream",
     "text": [
      "        id division_id   name bn_name         lat        long\n",
      "count   72          64     72      72          72          72\n",
      "unique  64           8     64      64          72          72\n",
      "top      1           3  Dhaka    ঢাকা  23.7115253  90.4111451\n",
      "freq     2          13      2       2           1           1\n"
     ]
    }
   ],
   "source": [
    "import pandas as pd\n",
    "\n",
    "df = pd.DataFrame(data)  # Convert dictionary to DataFrame\n",
    "print(df.describe())"
   ]
  },
  {
   "cell_type": "code",
   "execution_count": 9,
   "id": "5528f2ba",
   "metadata": {},
   "outputs": [
    {
     "name": "stdout",
     "output_type": "stream",
     "text": [
      "    id division_id        name    bn_name        lat       long\n",
      "62  63           4      Narail      িিাইল  23.172534  89.512672\n",
      "63  64           4    Satkhira   াতক্ষীিা    22.7185    89.0705\n",
      "64   1         NaN    Barishal     বরি াল  22.701002  90.353451\n",
      "65   2         NaN  Chattogram  চট্টগ্রাম  22.356851  91.783182\n",
      "66   3         NaN       Dhaka       ঢাকা  23.810332  90.412518\n",
      "67   4         NaN      Khulna      খুলিা  22.845641  89.540328\n",
      "68   5         NaN    Rajshahi    িাজ াহী  24.363589  88.624135\n",
      "69   6         NaN     Rangpur     িিংপুি  25.743892  89.275227\n",
      "70   7         NaN      Sylhet      র শলট  24.894929  91.868706\n",
      "71   8         NaN  Mymensingh  ময়মির িংহ  24.747149  90.420273\n"
     ]
    }
   ],
   "source": [
    "print(f\"{df.tail(10)}\")"
   ]
  },
  {
   "cell_type": "markdown",
   "id": "299a6b29",
   "metadata": {},
   "source": [
    "# Import iris datasets\n",
    "---"
   ]
  },
  {
   "cell_type": "code",
   "execution_count": 17,
   "id": "3953c400",
   "metadata": {},
   "outputs": [
    {
     "name": "stdout",
     "output_type": "stream",
     "text": [
      "    sepal_length  sepal_width  petal_length  petal_width          species\n",
      "0            5.1          3.5           1.4          0.2      Iris-setosa\n",
      "1            4.9          3.0           1.4          0.2      Iris-setosa\n",
      "2            4.7          3.2           1.3          0.2      Iris-setosa\n",
      "3            4.6          3.1           1.5          0.2      Iris-setosa\n",
      "4            5.0          3.6           1.4          0.2      Iris-setosa\n",
      "5            5.4          3.9           1.7          0.4      Iris-setosa\n",
      "6            4.6          3.4           1.4          0.3      Iris-setosa\n",
      "7            5.0          3.4           1.5          0.2      Iris-setosa\n",
      "8            4.4          2.9           1.4          0.2      Iris-setosa\n",
      "9            4.9          3.1           1.5          0.1      Iris-setosa\n",
      "10           5.4          3.7           1.5          0.2      Iris-setosa\n",
      "11           4.8          3.4           1.6          0.2      Iris-setosa\n",
      "12           4.8          3.0           1.4          0.1      Iris-setosa\n",
      "13           4.3          3.0           1.1          0.1      Iris-setosa\n",
      "14           5.8          4.0           1.2          0.2      Iris-setosa\n",
      "15           5.7          4.4           1.5          0.4      Iris-setosa\n",
      "16           5.4          3.9           1.3          0.4      Iris-setosa\n",
      "17           5.1          3.5           1.4          0.3      Iris-setosa\n",
      "18           5.7          3.8           1.7          0.3      Iris-setosa\n",
      "19           5.1          3.8           1.5          0.3      Iris-setosa\n",
      "20           5.4          3.4           1.7          0.2      Iris-setosa\n",
      "21           5.1          3.7           1.5          0.4      Iris-setosa\n",
      "22           4.6          3.6           1.0          0.2      Iris-setosa\n",
      "23           5.1          3.3           1.7          0.5      Iris-setosa\n",
      "24           4.8          3.4           1.9          0.2      Iris-setosa\n",
      "25           5.0          3.0           1.6          0.2      Iris-setosa\n",
      "26           5.0          3.4           1.6          0.4      Iris-setosa\n",
      "27           5.2          3.5           1.5          0.2      Iris-setosa\n",
      "28           5.2          3.4           1.4          0.2      Iris-setosa\n",
      "29           4.7          3.2           1.6          0.2      Iris-setosa\n",
      "30           4.8          3.1           1.6          0.2      Iris-setosa\n",
      "31           5.4          3.4           1.5          0.4      Iris-setosa\n",
      "32           5.2          4.1           1.5          0.1      Iris-setosa\n",
      "33           5.5          4.2           1.4          0.2      Iris-setosa\n",
      "34           4.9          3.1           1.5          0.1      Iris-setosa\n",
      "35           5.0          3.2           1.2          0.2      Iris-setosa\n",
      "36           5.5          3.5           1.3          0.2      Iris-setosa\n",
      "37           4.9          3.1           1.5          0.1      Iris-setosa\n",
      "38           4.4          3.0           1.3          0.2      Iris-setosa\n",
      "39           5.1          3.4           1.5          0.2      Iris-setosa\n",
      "40           5.0          3.5           1.3          0.3      Iris-setosa\n",
      "41           4.5          2.3           1.3          0.3      Iris-setosa\n",
      "42           4.4          3.2           1.3          0.2      Iris-setosa\n",
      "43           5.0          3.5           1.6          0.6      Iris-setosa\n",
      "44           5.1          3.8           1.9          0.4      Iris-setosa\n",
      "45           4.8          3.0           1.4          0.3      Iris-setosa\n",
      "46           5.1          3.8           1.6          0.2      Iris-setosa\n",
      "47           4.6          3.2           1.4          0.2      Iris-setosa\n",
      "48           5.3          3.7           1.5          0.2      Iris-setosa\n",
      "49           5.0          3.3           1.4          0.2      Iris-setosa\n",
      "50           7.0          3.2           4.7          1.4  Iris-versicolor\n",
      "51           6.4          3.2           4.5          1.5  Iris-versicolor\n",
      "52           6.9          3.1           4.9          1.5  Iris-versicolor\n",
      "53           5.5          2.3           4.0          1.3  Iris-versicolor\n",
      "54           6.5          2.8           4.6          1.5  Iris-versicolor\n",
      "55           5.7          2.8           4.5          1.3  Iris-versicolor\n",
      "56           6.3          3.3           4.7          1.6  Iris-versicolor\n",
      "57           4.9          2.4           3.3          1.0  Iris-versicolor\n",
      "58           6.6          2.9           4.6          1.3  Iris-versicolor\n",
      "59           5.2          2.7           3.9          1.4  Iris-versicolor\n"
     ]
    }
   ],
   "source": [
    "\n",
    "import pandas as pd\n",
    "\n",
    "iris_url = \"https://archive.ics.uci.edu/ml/machine-learning-databases/iris/iris.data\"\n",
    "\n",
    "# Fetch the dataset\n",
    "response2 = requests.get(iris_url)\n",
    "\n",
    "# Convert to DataFrame\n",
    "columns = [\"sepal_length\", \"sepal_width\", \"petal_length\", \"petal_width\", \"species\"]\n",
    "df = pd.read_csv(iris_url, names=columns)\n",
    "\n",
    "print(df.head(60))  # Display first 5 rows\n"
   ]
  }
 ],
 "metadata": {
  "kernelspec": {
   "display_name": "Python 3",
   "language": "python",
   "name": "python3"
  },
  "language_info": {
   "codemirror_mode": {
    "name": "ipython",
    "version": 3
   },
   "file_extension": ".py",
   "mimetype": "text/x-python",
   "name": "python",
   "nbconvert_exporter": "python",
   "pygments_lexer": "ipython3",
   "version": "3.12.9"
  }
 },
 "nbformat": 4,
 "nbformat_minor": 5
}
