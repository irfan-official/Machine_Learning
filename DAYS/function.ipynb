{
 "cells": [
  {
   "cell_type": "code",
   "execution_count": 4,
   "metadata": {},
   "outputs": [
    {
     "name": "stdout",
     "output_type": "stream",
     "text": [
      "One function is called with test value 200\n"
     ]
    }
   ],
   "source": [
    "def one(test = 100):\n",
    "  print(f\"One function is called with test value {test}\")\n",
    "\n",
    "one(200)"
   ]
  },
  {
   "cell_type": "code",
   "execution_count": 14,
   "metadata": {},
   "outputs": [
    {
     "name": "stdout",
     "output_type": "stream",
     "text": [
      "One function is called with test mao = True\n",
      "One function is called with test name = Irfan\n"
     ]
    }
   ],
   "source": [
    "def one(name=True, mao=None):\n",
    "  print(f\"One function is called with test mao = {mao}\")\n",
    "  print(f\"One function is called with test name = {name}\")\n",
    "\n",
    "one(mao=True, name=\"Irfan\")"
   ]
  },
  {
   "cell_type": "code",
   "execution_count": 8,
   "metadata": {},
   "outputs": [
    {
     "name": "stdout",
     "output_type": "stream",
     "text": [
      "One function is called with test value Some value and mao value True\n"
     ]
    }
   ],
   "source": [
    "def one(test=None, mao=None):  # Define mao as a keyword argument\n",
    "    print(f\"One function is called with test value {test} and mao value {mao}\")\n",
    "\n",
    "# Now you can call the function with mao=True\n",
    "one(test=\"Some value\", mao=True)\n"
   ]
  }
 ],
 "metadata": {
  "kernelspec": {
   "display_name": "Python 3",
   "language": "python",
   "name": "python3"
  },
  "language_info": {
   "codemirror_mode": {
    "name": "ipython",
    "version": 3
   },
   "file_extension": ".py",
   "mimetype": "text/x-python",
   "name": "python",
   "nbconvert_exporter": "python",
   "pygments_lexer": "ipython3",
   "version": "3.12.9"
  }
 },
 "nbformat": 4,
 "nbformat_minor": 2
}
