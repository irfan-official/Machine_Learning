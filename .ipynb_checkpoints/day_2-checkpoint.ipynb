{
 "cells": [
  {
   "cell_type": "code",
   "execution_count": 4,
   "metadata": {},
   "outputs": [],
   "source": [
    "import pandas as pd\n",
    "dataset = pd.read_csv(r\"./brain_tumor_dataset.csv\")"
   ]
  },
  {
   "cell_type": "code",
   "execution_count": 5,
   "metadata": {},
   "outputs": [
    {
     "name": "stdout",
     "output_type": "stream",
     "text": [
      "         Patient_ID           Age    Tumor_Size  Survival_Rate  \\\n",
      "count  20000.000000  20000.000000  20000.000000   20000.000000   \n",
      "mean   10000.500000     49.433700      5.236552      70.131699   \n",
      "std     5773.647028     17.389296      2.754359      17.270834   \n",
      "min        1.000000     20.000000      0.500410      40.002386   \n",
      "25%     5000.750000     34.000000      2.836686      55.224439   \n",
      "50%    10000.500000     49.000000      5.200675      70.305066   \n",
      "75%    15000.250000     65.000000      7.624299      85.043395   \n",
      "max    20000.000000     79.000000      9.999420      99.998125   \n",
      "\n",
      "       Tumor_Growth_Rate  \n",
      "count       20000.000000  \n",
      "mean            1.547701  \n",
      "std             0.835995  \n",
      "min             0.100017  \n",
      "25%             0.830433  \n",
      "50%             1.541821  \n",
      "75%             2.262484  \n",
      "max             2.999835  \n"
     ]
    }
   ],
   "source": [
    "print(dataset.describe())"
   ]
  },
  {
   "cell_type": "markdown",
   "metadata": {},
   "source": []
  },
  {
   "cell_type": "code",
   "execution_count": 8,
   "metadata": {},
   "outputs": [
    {
     "name": "stdout",
     "output_type": "stream",
     "text": [
      "   Patient_ID  Age Gender Tumor_Type  Tumor_Size  Location    Histology Stage  \\\n",
      "0           1   73   Male  Malignant    5.375612  Temporal  Astrocytoma   III   \n",
      "\n",
      "       Symptom_1 Symptom_2 Symptom_3 Radiation_Treatment Surgery_Performed  \\\n",
      "0  Vision Issues  Seizures  Seizures                  No                No   \n",
      "\n",
      "  Chemotherapy  Survival_Rate  Tumor_Growth_Rate Family_History MRI_Result  \\\n",
      "0          NaN      51.312579           0.111876             No   Positive   \n",
      "\n",
      "  Follow_Up_Required  \n",
      "0                Yes  \n"
     ]
    }
   ],
   "source": [
    "print(dataset.head(1))"
   ]
  },
  {
   "cell_type": "code",
   "execution_count": null,
   "metadata": {},
   "outputs": [],
   "source": []
  }
 ],
 "metadata": {
  "kernelspec": {
   "display_name": "Python 3",
   "language": "python",
   "name": "python3"
  },
  "language_info": {
   "codemirror_mode": {
    "name": "ipython",
    "version": 3
   },
   "file_extension": ".py",
   "mimetype": "text/x-python",
   "name": "python",
   "nbconvert_exporter": "python",
   "pygments_lexer": "ipython3",
   "version": "3.12.9"
  }
 },
 "nbformat": 4,
 "nbformat_minor": 4
}
