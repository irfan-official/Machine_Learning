{
 "cells": [
  {
   "cell_type": "markdown",
   "metadata": {},
   "source": [
    "# Loop wise Mod filling\n",
    "---"
   ]
  },
  {
   "cell_type": "code",
   "execution_count": 2,
   "metadata": {},
   "outputs": [],
   "source": [
    "import pandas as pd\n",
    "\n",
    "dataframe = pd.read_csv(r\"../DATA/products.csv\")"
   ]
  },
  {
   "cell_type": "code",
   "execution_count": 3,
   "metadata": {},
   "outputs": [],
   "source": [
    "import pandas as pd\n",
    "\n",
    "def modFill(dataset=pd.DataFrame({})):\n",
    "    for i in dataset.select_dtypes(include=\"int64\").columns:\n",
    "        dataset[i] = dataset[i].fillna(dataset[i].mode()[0])\n",
    "\n",
    "    for i in dataset.select_dtypes(include=\"object\").columns:\n",
    "        dataset[i] = dataset[i].fillna(dataset[i].mode()[0])\n",
    "\n",
    "    for i in dataset.select_dtypes(include=\"float64\").columns:\n",
    "        dataset[i] = dataset[i].fillna(dataset[i].mode()[0])\n",
    "    \n",
    "    return dataset"
   ]
  },
  {
   "cell_type": "code",
   "execution_count": null,
   "metadata": {},
   "outputs": [],
   "source": [
    "new_dataframe = modFill(dataframe)\n",
    "new_dataframe.head(10)"
   ]
  },
  {
   "cell_type": "code",
   "execution_count": null,
   "metadata": {},
   "outputs": [],
   "source": [
    "new_dataframe.isnull().sum()*100"
   ]
  }
 ],
 "metadata": {
  "kernelspec": {
   "display_name": "Python 3",
   "language": "python",
   "name": "python3"
  },
  "language_info": {
   "codemirror_mode": {
    "name": "ipython",
    "version": 3
   },
   "file_extension": ".py",
   "mimetype": "text/x-python",
   "name": "python",
   "nbconvert_exporter": "python",
   "pygments_lexer": "ipython3",
   "version": "3.12.9"
  }
 },
 "nbformat": 4,
 "nbformat_minor": 2
}
